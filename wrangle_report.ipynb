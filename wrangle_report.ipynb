{
 "cells": [
  {
   "cell_type": "markdown",
   "metadata": {},
   "source": [
    "This project is more challenging and was very excited to start this project because this impressed me alot of way.when i started project i got stuck alot of place where showing so much of error while accessing data from twitter.i enjoyed doing the precess of assessing and cleaning the data mannually by looking the dataset as well as programatically.Identifying issue was very challenging and it confused about to identify the significance of each columns and fixing the issue.I didnt went through the complete cleaning process and some issue i got by just checking the columns randomnly which have some suspecious value.\n",
    "\n",
    "Gathering data ,Udacity provide twitter archives for the tweets of @WeRateDogs in csv format twitter_archive_enhanced.csv  Download this file manually \n",
    "This file (image_predictions.tsv) is hosted on Udacity's servers and should be downloaded programmatically using the Requests library and the following URL: https://d17h27t6h515a5.cloudfront.net/topher/2017/August/599fd2ad_image-predictions/image-predictions.tsv\n",
    "querying the Twitter API using a Python library to download each tweet’s JSON data which includes the favorites and retweets counts. \n"
   ]
  }
 ],
 "metadata": {
  "kernelspec": {
   "display_name": "Python 3",
   "language": "python",
   "name": "python3"
  },
  "language_info": {
   "codemirror_mode": {
    "name": "ipython",
    "version": 3
   },
   "file_extension": ".py",
   "mimetype": "text/x-python",
   "name": "python",
   "nbconvert_exporter": "python",
   "pygments_lexer": "ipython3",
   "version": "3.6.3"
  }
 },
 "nbformat": 4,
 "nbformat_minor": 2
}
